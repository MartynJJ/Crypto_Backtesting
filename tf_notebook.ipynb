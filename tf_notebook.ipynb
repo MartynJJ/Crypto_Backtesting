{
  "nbformat": 4,
  "nbformat_minor": 0,
  "metadata": {
    "kernelspec": {
      "display_name": "Python 3",
      "language": "python",
      "name": "python3"
    },
    "language_info": {
      "codemirror_mode": {
        "name": "ipython",
        "version": 3
      },
      "file_extension": ".py",
      "mimetype": "text/x-python",
      "name": "python",
      "nbconvert_exporter": "python",
      "pygments_lexer": "ipython3",
      "version": "3.7.0"
    },
    "colab": {
      "name": "tf_notebook.ipynb",
      "provenance": [],
      "toc_visible": true
    },
    "accelerator": "GPU"
  },
  "cells": [
    {
      "cell_type": "code",
      "metadata": {
        "id": "2Hf5z41fH9-V",
        "colab_type": "code",
        "colab": {
          "base_uri": "https://localhost:8080/",
          "height": 72
        },
        "outputId": "9ad6dc28-1fb1-49a6-fdd9-a39b770e472d"
      },
      "source": [
        "import tensorflow as tf\n",
        "import pandas as pd\n",
        "from sklearn.preprocessing import MinMaxScaler\n",
        "from tensorflow.keras import Sequential\n",
        "from tensorflow.keras.layers import Dense, LSTM, Dropout, BatchNormalization\n",
        "import numpy as np\n",
        "import matplotlib.pyplot as plt\n",
        "import seaborn as sns\n",
        "from statsmodels.tsa.stattools import adfuller"
      ],
      "execution_count": 1,
      "outputs": [
        {
          "output_type": "stream",
          "text": [
            "/usr/local/lib/python3.6/dist-packages/statsmodels/tools/_testing.py:19: FutureWarning: pandas.util.testing is deprecated. Use the functions in the public API at pandas.testing instead.\n",
            "  import pandas.util.testing as tm\n"
          ],
          "name": "stderr"
        }
      ]
    },
    {
      "cell_type": "code",
      "metadata": {
        "id": "VV11txTAH9-j",
        "colab_type": "code",
        "colab": {
          "base_uri": "https://localhost:8080/",
          "height": 34
        },
        "outputId": "02f0df7b-96e1-435e-b0c2-79e1b61653f9"
      },
      "source": [
        "tf.__version__"
      ],
      "execution_count": 2,
      "outputs": [
        {
          "output_type": "execute_result",
          "data": {
            "text/plain": [
              "'2.2.0'"
            ]
          },
          "metadata": {
            "tags": []
          },
          "execution_count": 2
        }
      ]
    },
    {
      "cell_type": "code",
      "metadata": {
        "id": "h2gOJj4kH9-v",
        "colab_type": "code",
        "colab": {}
      },
      "source": [
        "myMinMaxScaler = MinMaxScaler()"
      ],
      "execution_count": 0,
      "outputs": []
    },
    {
      "cell_type": "code",
      "metadata": {
        "id": "ktshU4g9H9-4",
        "colab_type": "code",
        "colab": {
          "base_uri": "https://localhost:8080/",
          "height": 455
        },
        "outputId": "a5210725-f0f4-45eb-b325-a6729f192318"
      },
      "source": [
        "import_df = pd.read_csv('20171021_20171124_1min.csv', index_col = 0, date_parser = pd.to_datetime)\n",
        "import_df"
      ],
      "execution_count": 4,
      "outputs": [
        {
          "output_type": "execute_result",
          "data": {
            "text/html": [
              "<div>\n",
              "<style scoped>\n",
              "    .dataframe tbody tr th:only-of-type {\n",
              "        vertical-align: middle;\n",
              "    }\n",
              "\n",
              "    .dataframe tbody tr th {\n",
              "        vertical-align: top;\n",
              "    }\n",
              "\n",
              "    .dataframe thead th {\n",
              "        text-align: right;\n",
              "    }\n",
              "</style>\n",
              "<table border=\"1\" class=\"dataframe\">\n",
              "  <thead>\n",
              "    <tr style=\"text-align: right;\">\n",
              "      <th></th>\n",
              "      <th>open</th>\n",
              "      <th>high</th>\n",
              "      <th>low</th>\n",
              "      <th>close</th>\n",
              "      <th>average</th>\n",
              "    </tr>\n",
              "    <tr>\n",
              "      <th>timestamp</th>\n",
              "      <th></th>\n",
              "      <th></th>\n",
              "      <th></th>\n",
              "      <th></th>\n",
              "      <th></th>\n",
              "    </tr>\n",
              "  </thead>\n",
              "  <tbody>\n",
              "    <tr>\n",
              "      <th>2017-10-21 00:00:00+00:00</th>\n",
              "      <td>6018.7</td>\n",
              "      <td>6022.1</td>\n",
              "      <td>6011.0</td>\n",
              "      <td>6020.0</td>\n",
              "      <td>6016.795301</td>\n",
              "    </tr>\n",
              "    <tr>\n",
              "      <th>2017-10-21 00:01:00+00:00</th>\n",
              "      <td>6019.9</td>\n",
              "      <td>6020.0</td>\n",
              "      <td>6014.2</td>\n",
              "      <td>6014.3</td>\n",
              "      <td>6018.435888</td>\n",
              "    </tr>\n",
              "    <tr>\n",
              "      <th>2017-10-21 00:02:00+00:00</th>\n",
              "      <td>6014.3</td>\n",
              "      <td>6016.6</td>\n",
              "      <td>6012.1</td>\n",
              "      <td>6012.1</td>\n",
              "      <td>6014.576291</td>\n",
              "    </tr>\n",
              "    <tr>\n",
              "      <th>2017-10-21 00:03:00+00:00</th>\n",
              "      <td>6012.1</td>\n",
              "      <td>6014.2</td>\n",
              "      <td>6012.1</td>\n",
              "      <td>6013.0</td>\n",
              "      <td>6012.818012</td>\n",
              "    </tr>\n",
              "    <tr>\n",
              "      <th>2017-10-21 00:04:00+00:00</th>\n",
              "      <td>6012.9</td>\n",
              "      <td>6018.0</td>\n",
              "      <td>6012.8</td>\n",
              "      <td>6015.8</td>\n",
              "      <td>6017.010478</td>\n",
              "    </tr>\n",
              "    <tr>\n",
              "      <th>...</th>\n",
              "      <td>...</td>\n",
              "      <td>...</td>\n",
              "      <td>...</td>\n",
              "      <td>...</td>\n",
              "      <td>...</td>\n",
              "    </tr>\n",
              "    <tr>\n",
              "      <th>2017-11-20 08:42:00+00:00</th>\n",
              "      <td>8053.5</td>\n",
              "      <td>8065.5</td>\n",
              "      <td>8053.5</td>\n",
              "      <td>8061.0</td>\n",
              "      <td>8060.684679</td>\n",
              "    </tr>\n",
              "    <tr>\n",
              "      <th>2017-11-20 08:43:00+00:00</th>\n",
              "      <td>8063.5</td>\n",
              "      <td>8063.5</td>\n",
              "      <td>8053.0</td>\n",
              "      <td>8054.0</td>\n",
              "      <td>8058.124414</td>\n",
              "    </tr>\n",
              "    <tr>\n",
              "      <th>2017-11-20 08:44:00+00:00</th>\n",
              "      <td>8054.0</td>\n",
              "      <td>8062.0</td>\n",
              "      <td>8053.5</td>\n",
              "      <td>8053.5</td>\n",
              "      <td>8057.491637</td>\n",
              "    </tr>\n",
              "    <tr>\n",
              "      <th>2017-11-20 08:45:00+00:00</th>\n",
              "      <td>8053.0</td>\n",
              "      <td>8053.0</td>\n",
              "      <td>8050.0</td>\n",
              "      <td>8051.5</td>\n",
              "      <td>8050.682994</td>\n",
              "    </tr>\n",
              "    <tr>\n",
              "      <th>2017-11-20 08:46:00+00:00</th>\n",
              "      <td>8052.0</td>\n",
              "      <td>805.0</td>\n",
              "      <td>NaN</td>\n",
              "      <td>NaN</td>\n",
              "      <td>NaN</td>\n",
              "    </tr>\n",
              "  </tbody>\n",
              "</table>\n",
              "<p>43727 rows × 5 columns</p>\n",
              "</div>"
            ],
            "text/plain": [
              "                             open    high     low   close      average\n",
              "timestamp                                                             \n",
              "2017-10-21 00:00:00+00:00  6018.7  6022.1  6011.0  6020.0  6016.795301\n",
              "2017-10-21 00:01:00+00:00  6019.9  6020.0  6014.2  6014.3  6018.435888\n",
              "2017-10-21 00:02:00+00:00  6014.3  6016.6  6012.1  6012.1  6014.576291\n",
              "2017-10-21 00:03:00+00:00  6012.1  6014.2  6012.1  6013.0  6012.818012\n",
              "2017-10-21 00:04:00+00:00  6012.9  6018.0  6012.8  6015.8  6017.010478\n",
              "...                           ...     ...     ...     ...          ...\n",
              "2017-11-20 08:42:00+00:00  8053.5  8065.5  8053.5  8061.0  8060.684679\n",
              "2017-11-20 08:43:00+00:00  8063.5  8063.5  8053.0  8054.0  8058.124414\n",
              "2017-11-20 08:44:00+00:00  8054.0  8062.0  8053.5  8053.5  8057.491637\n",
              "2017-11-20 08:45:00+00:00  8053.0  8053.0  8050.0  8051.5  8050.682994\n",
              "2017-11-20 08:46:00+00:00  8052.0   805.0     NaN     NaN          NaN\n",
              "\n",
              "[43727 rows x 5 columns]"
            ]
          },
          "metadata": {
            "tags": []
          },
          "execution_count": 4
        }
      ]
    },
    {
      "cell_type": "code",
      "metadata": {
        "id": "3rfdakRQH9--",
        "colab_type": "code",
        "colab": {}
      },
      "source": [
        "import_df = import_df.dropna()"
      ],
      "execution_count": 0,
      "outputs": []
    },
    {
      "cell_type": "markdown",
      "metadata": {
        "id": "uqjLr51MH9_G",
        "colab_type": "text"
      },
      "source": [
        "# Train / Test Split"
      ]
    },
    {
      "cell_type": "code",
      "metadata": {
        "id": "zEy2NIoxH9_H",
        "colab_type": "code",
        "colab": {
          "base_uri": "https://localhost:8080/",
          "height": 34
        },
        "outputId": "ca8d1847-cc2c-4552-fa2a-ce26584ac14d"
      },
      "source": [
        "import_df.shape"
      ],
      "execution_count": 6,
      "outputs": [
        {
          "output_type": "execute_result",
          "data": {
            "text/plain": [
              "(43701, 5)"
            ]
          },
          "metadata": {
            "tags": []
          },
          "execution_count": 6
        }
      ]
    },
    {
      "cell_type": "code",
      "metadata": {
        "id": "4r4laumkH9_N",
        "colab_type": "code",
        "colab": {
          "base_uri": "https://localhost:8080/",
          "height": 34
        },
        "outputId": "61e04d10-4d03-4469-e148-b5da438f9c2f"
      },
      "source": [
        "test_size = int(import_df.shape[0] / 3)\n",
        "train_size = import_df.shape[0] - test_size\n",
        "train_size"
      ],
      "execution_count": 7,
      "outputs": [
        {
          "output_type": "execute_result",
          "data": {
            "text/plain": [
              "29134"
            ]
          },
          "metadata": {
            "tags": []
          },
          "execution_count": 7
        }
      ]
    },
    {
      "cell_type": "code",
      "metadata": {
        "id": "dInsaDpRH9_T",
        "colab_type": "code",
        "colab": {}
      },
      "source": [
        "train_df = import_df[:train_size]\n",
        "# train_df = myMinMaxScaler.fit_transform(train_df)\n",
        "test_df = import_df[train_size:]\n",
        "# test_df = myMinMaxScaler.transform(test_df)"
      ],
      "execution_count": 0,
      "outputs": []
    },
    {
      "cell_type": "markdown",
      "metadata": {
        "id": "ghTb6mCnH9_X",
        "colab_type": "text"
      },
      "source": [
        "# TS Analysis"
      ]
    },
    {
      "cell_type": "code",
      "metadata": {
        "id": "LyugV9ivH9_Z",
        "colab_type": "code",
        "colab": {}
      },
      "source": [
        "train_y_orig = train_df.close"
      ],
      "execution_count": 0,
      "outputs": []
    },
    {
      "cell_type": "code",
      "metadata": {
        "id": "KVDrqHqQH9_d",
        "colab_type": "code",
        "colab": {
          "base_uri": "https://localhost:8080/",
          "height": 282
        },
        "outputId": "698c4e92-01f3-4bc6-8b7a-ce9e131e3a50"
      },
      "source": [
        "plt.plot(train_y_orig)"
      ],
      "execution_count": 10,
      "outputs": [
        {
          "output_type": "execute_result",
          "data": {
            "text/plain": [
              "[<matplotlib.lines.Line2D at 0x7f9ed0cf57f0>]"
            ]
          },
          "metadata": {
            "tags": []
          },
          "execution_count": 10
        },
        {
          "output_type": "display_data",
          "data": {
            "image/png": "[encoded data removed]",
            "text/plain": [
              "<Figure size 432x288 with 1 Axes>"
            ]
          },
          "metadata": {
            "tags": [],
            "needs_background": "light"
          }
        }
      ]
    },
    {
      "cell_type": "code",
      "metadata": {
        "id": "8I4IxGyzH9_i",
        "colab_type": "code",
        "colab": {
          "base_uri": "https://localhost:8080/",
          "height": 285
        },
        "outputId": "d14b53ee-f495-46d4-b52c-5d8225ec7201"
      },
      "source": [
        "train_y_1dif = (train_y_orig - train_y_orig.shift(1)).dropna()\n",
        "train_y_1dif.plot();"
      ],
      "execution_count": 11,
      "outputs": [
        {
          "output_type": "display_data",
          "data": {
            "image/png": "[encoded data removed]",
            "text/plain": [
              "<Figure size 432x288 with 1 Axes>"
            ]
          },
          "metadata": {
            "tags": [],
            "needs_background": "light"
          }
        }
      ]
    },
    {
      "cell_type": "code",
      "metadata": {
        "id": "B7a2yo3QH9_o",
        "colab_type": "code",
        "colab": {
          "base_uri": "https://localhost:8080/",
          "height": 156
        },
        "outputId": "dbd8ec03-228e-4fbd-af3b-14ec06add8f0"
      },
      "source": [
        "adfuller(train_y_1dif)"
      ],
      "execution_count": 12,
      "outputs": [
        {
          "output_type": "execute_result",
          "data": {
            "text/plain": [
              "(-24.641323831006986,\n",
              " 0.0,\n",
              " 49,\n",
              " 29083,\n",
              " {'1%': -3.4305748694175144,\n",
              "  '10%': -2.5668229002023737,\n",
              "  '5%': -2.8616393860891476},\n",
              " 214252.0801584676)"
            ]
          },
          "metadata": {
            "tags": []
          },
          "execution_count": 12
        }
      ]
    },
    {
      "cell_type": "markdown",
      "metadata": {
        "id": "4zNRzYrxH9_t",
        "colab_type": "text"
      },
      "source": [
        "p-value is 0, therefore reject that the series has unit root, aka series is stationary."
      ]
    },
    {
      "cell_type": "markdown",
      "metadata": {
        "id": "I_ovnx64H9_v",
        "colab_type": "text"
      },
      "source": [
        "# LSTM\n"
      ]
    },
    {
      "cell_type": "code",
      "metadata": {
        "id": "4NFAHQEhH9_w",
        "colab_type": "code",
        "colab": {
          "base_uri": "https://localhost:8080/",
          "height": 34
        },
        "outputId": "d6fdcac9-4249-499b-a026-dbcaa0474d99"
      },
      "source": [
        "window_size = 30\n",
        "look_ahead = 1\n",
        "y_train = np.array(train_df.close[window_size + look_ahead:])\n",
        "# y_train = np.array(train_df[window_size + look_ahead:, 3])\n",
        "data_points_train = y_train.shape[0]\n",
        "data_points_train\n",
        "y_test = np.array(test_df.close[window_size + look_ahead:])\n",
        "# y_test = np.array(test_df[window_size + look_ahead:, 3])\n",
        "data_points_test = y_test.shape[0]\n",
        "data_points_train, data_points_test"
      ],
      "execution_count": 13,
      "outputs": [
        {
          "output_type": "execute_result",
          "data": {
            "text/plain": [
              "(29103, 14536)"
            ]
          },
          "metadata": {
            "tags": []
          },
          "execution_count": 13
        }
      ]
    },
    {
      "cell_type": "code",
      "metadata": {
        "id": "TKXsEpg5H9_0",
        "colab_type": "code",
        "colab": {}
      },
      "source": [
        "X_train = np.zeros((data_points_train, window_size, 5))\n",
        "X_test = np.zeros((data_points_test, window_size, 5))"
      ],
      "execution_count": 0,
      "outputs": []
    },
    {
      "cell_type": "code",
      "metadata": {
        "id": "FecNdhDLH9_4",
        "colab_type": "code",
        "colab": {}
      },
      "source": [
        "for i in range(data_points_train):\n",
        "#     X_train[i] = train_df[:window_size,:]\n",
        "    X_train[i] = train_df.iloc[:window_size,].values\n",
        "for i in range(data_points_test):   \n",
        "    X_test[i] = test_df.iloc[:window_size,].values\n",
        "#     X_test[i] = test_df[:window_size,:]"
      ],
      "execution_count": 0,
      "outputs": []
    },
    {
      "cell_type": "code",
      "metadata": {
        "id": "ADAUnhF3H9_9",
        "colab_type": "code",
        "colab": {}
      },
      "source": [
        "train_data_tf = tf.data.Dataset.from_tensor_slices((X_train, y_train))\n",
        "BATCH_SIZE = 120\n",
        "BUFFER_SIZE = 10000\n",
        "train_data_tf = train_data_tf.cache().batch(BATCH_SIZE).repeat()"
      ],
      "execution_count": 0,
      "outputs": []
    },
    {
      "cell_type": "code",
      "metadata": {
        "id": "rFS7_KxxH-AA",
        "colab_type": "code",
        "colab": {}
      },
      "source": [
        "test_data_tf = tf.data.Dataset.from_tensor_slices((X_test, y_test))\n",
        "BATCH_SIZE = 120\n",
        "BUFFER_SIZE = 10000\n",
        "test_data_tf = test_data_tf.cache().batch(BATCH_SIZE).repeat()"
      ],
      "execution_count": 0,
      "outputs": []
    },
    {
      "cell_type": "code",
      "metadata": {
        "id": "LMacqR2gH-AE",
        "colab_type": "code",
        "colab": {}
      },
      "source": [
        "multi_step_model = tf.keras.models.Sequential()\n",
        "multi_step_model.add(tf.keras.layers.LSTM(32,\n",
        "                                          return_sequences=True,\n",
        "                                          input_shape=X_train.shape[-2:]))\n",
        "multi_step_model.add(tf.keras.layers.LSTM(32, activation='tanh', return_sequences=True))\n",
        "multi_step_model.add(tf.keras.layers.LSTM(16, activation='tanh'))\n",
        "\n",
        "multi_step_model.add(tf.keras.layers.Dense(1))\n",
        "\n"
      ],
      "execution_count": 0,
      "outputs": []
    },
    {
      "cell_type": "code",
      "metadata": {
        "id": "em6ovhfJH-AI",
        "colab_type": "code",
        "colab": {
          "base_uri": "https://localhost:8080/",
          "height": 295
        },
        "outputId": "f3255c50-3839-43a8-c18c-c1cacd4871ee"
      },
      "source": [
        "multi_step_model.summary()"
      ],
      "execution_count": 19,
      "outputs": [
        {
          "output_type": "stream",
          "text": [
            "Model: \"sequential\"\n",
            "_________________________________________________________________\n",
            "Layer (type)                 Output Shape              Param #   \n",
            "=================================================================\n",
            "lstm (LSTM)                  (None, 30, 32)            4864      \n",
            "_________________________________________________________________\n",
            "lstm_1 (LSTM)                (None, 30, 32)            8320      \n",
            "_________________________________________________________________\n",
            "lstm_2 (LSTM)                (None, 16)                3136      \n",
            "_________________________________________________________________\n",
            "dense (Dense)                (None, 1)                 17        \n",
            "=================================================================\n",
            "Total params: 16,337\n",
            "Trainable params: 16,337\n",
            "Non-trainable params: 0\n",
            "_________________________________________________________________\n"
          ],
          "name": "stdout"
        }
      ]
    },
    {
      "cell_type": "code",
      "metadata": {
        "id": "2h7tnvQyH-AM",
        "colab_type": "code",
        "colab": {
          "base_uri": "https://localhost:8080/",
          "height": 1000
        },
        "outputId": "db1e9bb1-3dab-4f92-bf05-8b278f57c167"
      },
      "source": [
        "for x, y in train_data_tf.take(1):\n",
        "    print (multi_step_model.predict(x).shape)\n",
        "    print(multi_step_model.predict(x))"
      ],
      "execution_count": 20,
      "outputs": [
        {
          "output_type": "stream",
          "text": [
            "(120, 1)\n",
            "[[-0.31063056]\n",
            " [-0.31063056]\n",
            " [-0.31063056]\n",
            " [-0.31063056]\n",
            " [-0.31063056]\n",
            " [-0.31063056]\n",
            " [-0.31063056]\n",
            " [-0.31063056]\n",
            " [-0.31063056]\n",
            " [-0.31063056]\n",
            " [-0.31063056]\n",
            " [-0.31063056]\n",
            " [-0.31063056]\n",
            " [-0.31063056]\n",
            " [-0.31063056]\n",
            " [-0.31063056]\n",
            " [-0.31063056]\n",
            " [-0.31063056]\n",
            " [-0.31063056]\n",
            " [-0.31063056]\n",
            " [-0.31063056]\n",
            " [-0.31063056]\n",
            " [-0.31063056]\n",
            " [-0.31063056]\n",
            " [-0.31063056]\n",
            " [-0.31063056]\n",
            " [-0.31063056]\n",
            " [-0.31063056]\n",
            " [-0.31063056]\n",
            " [-0.31063056]\n",
            " [-0.31063056]\n",
            " [-0.31063056]\n",
            " [-0.31063056]\n",
            " [-0.31063056]\n",
            " [-0.31063056]\n",
            " [-0.31063056]\n",
            " [-0.31063056]\n",
            " [-0.31063056]\n",
            " [-0.31063056]\n",
            " [-0.31063056]\n",
            " [-0.31063056]\n",
            " [-0.31063056]\n",
            " [-0.31063056]\n",
            " [-0.31063056]\n",
            " [-0.31063056]\n",
            " [-0.31063056]\n",
            " [-0.31063056]\n",
            " [-0.31063056]\n",
            " [-0.31063056]\n",
            " [-0.31063056]\n",
            " [-0.31063056]\n",
            " [-0.31063056]\n",
            " [-0.31063056]\n",
            " [-0.31063056]\n",
            " [-0.31063056]\n",
            " [-0.31063056]\n",
            " [-0.31063056]\n",
            " [-0.31063056]\n",
            " [-0.31063056]\n",
            " [-0.31063056]\n",
            " [-0.31063056]\n",
            " [-0.31063056]\n",
            " [-0.31063056]\n",
            " [-0.31063056]\n",
            " [-0.31063056]\n",
            " [-0.31063056]\n",
            " [-0.31063056]\n",
            " [-0.31063056]\n",
            " [-0.31063056]\n",
            " [-0.31063056]\n",
            " [-0.31063056]\n",
            " [-0.31063056]\n",
            " [-0.31063056]\n",
            " [-0.31063056]\n",
            " [-0.31063056]\n",
            " [-0.31063056]\n",
            " [-0.31063056]\n",
            " [-0.31063056]\n",
            " [-0.31063056]\n",
            " [-0.31063056]\n",
            " [-0.31063056]\n",
            " [-0.31063056]\n",
            " [-0.31063056]\n",
            " [-0.31063056]\n",
            " [-0.31063056]\n",
            " [-0.31063056]\n",
            " [-0.31063056]\n",
            " [-0.31063056]\n",
            " [-0.31063056]\n",
            " [-0.31063056]\n",
            " [-0.31063056]\n",
            " [-0.31063056]\n",
            " [-0.31063056]\n",
            " [-0.31063056]\n",
            " [-0.31063056]\n",
            " [-0.31063056]\n",
            " [-0.31063056]\n",
            " [-0.31063056]\n",
            " [-0.31063056]\n",
            " [-0.31063056]\n",
            " [-0.31063056]\n",
            " [-0.31063056]\n",
            " [-0.31063056]\n",
            " [-0.31063056]\n",
            " [-0.31063056]\n",
            " [-0.31063056]\n",
            " [-0.31063056]\n",
            " [-0.31063056]\n",
            " [-0.31063056]\n",
            " [-0.31063056]\n",
            " [-0.31063056]\n",
            " [-0.31063056]\n",
            " [-0.31063056]\n",
            " [-0.31063056]\n",
            " [-0.31063056]\n",
            " [-0.31063056]\n",
            " [-0.31063056]\n",
            " [-0.31063056]\n",
            " [-0.31063056]\n",
            " [-0.31063056]]\n"
          ],
          "name": "stdout"
        }
      ]
    },
    {
      "cell_type": "code",
      "metadata": {
        "id": "SuQPSRxxH-AR",
        "colab_type": "code",
        "colab": {}
      },
      "source": [
        "from tensorflow.keras.optimizers import SGD\n",
        "opt = SGD(lr=0.01, momentum=0.9, clipnorm=1.0)"
      ],
      "execution_count": 0,
      "outputs": []
    },
    {
      "cell_type": "code",
      "metadata": {
        "id": "gbmW3IgKH-AV",
        "colab_type": "code",
        "colab": {}
      },
      "source": [
        "# multi_step_model.compile(optimizer=opt, loss='mse')\n",
        "multi_step_model.compile(optimizer=tf.keras.optimizers.RMSprop(clipvalue=1.0, lr=0.1), loss='mae')\n",
        "# multi_step_model.compile(optimizer='adam', loss='mse')"
      ],
      "execution_count": 0,
      "outputs": []
    },
    {
      "cell_type": "code",
      "metadata": {
        "id": "YDiPT81qJd-W",
        "colab_type": "code",
        "colab": {
          "base_uri": "https://localhost:8080/",
          "height": 34
        },
        "outputId": "ec5ff766-0123-409d-a9fd-e49e58c5b589"
      },
      "source": [
        "device_name = tf.test.gpu_device_name()\n",
        "if device_name != '/device:GPU:0':\n",
        "  raise SystemError('GPU device not found')\n",
        "print('Found GPU at: {}'.format(device_name))"
      ],
      "execution_count": 23,
      "outputs": [
        {
          "output_type": "stream",
          "text": [
            "Found GPU at: /device:GPU:0\n"
          ],
          "name": "stdout"
        }
      ]
    },
    {
      "cell_type": "code",
      "metadata": {
        "id": "p_UFHZA3H-AZ",
        "colab_type": "code",
        "colab": {
          "base_uri": "https://localhost:8080/",
          "height": 295
        },
        "outputId": "f799a247-bef3-48a1-9b8f-48a62b6d06e5"
      },
      "source": [
        "EVALUATION_INTERVAL = 5_000\n",
        "EPOCHS = 8\n",
        "\n",
        "\n",
        "with tf.device('/device:GPU:0'):\n",
        "    multi_step_history = multi_step_model.fit(train_data_tf, epochs=EPOCHS,\n",
        "                                          steps_per_epoch=EVALUATION_INTERVAL,\n",
        "                                          validation_data=test_data_tf,\n",
        "                                          validation_steps=200)\n"
      ],
      "execution_count": 24,
      "outputs": [
        {
          "output_type": "stream",
          "text": [
            "Epoch 1/8\n",
            "5000/5000 [==============================] - 45s 9ms/step - loss: 2659.8755 - val_loss: 778.4153\n",
            "Epoch 2/8\n",
            "5000/5000 [==============================] - 44s 9ms/step - loss: 622.4038 - val_loss: 684.1541\n",
            "Epoch 3/8\n",
            "5000/5000 [==============================] - 44s 9ms/step - loss: 614.2375 - val_loss: 719.3495\n",
            "Epoch 4/8\n",
            "5000/5000 [==============================] - 45s 9ms/step - loss: 620.1823 - val_loss: 729.4704\n",
            "Epoch 5/8\n",
            "5000/5000 [==============================] - 44s 9ms/step - loss: 617.5226 - val_loss: 674.8962\n",
            "Epoch 6/8\n",
            "5000/5000 [==============================] - 44s 9ms/step - loss: 615.3395 - val_loss: 774.1583\n",
            "Epoch 7/8\n",
            "5000/5000 [==============================] - 44s 9ms/step - loss: 620.8537 - val_loss: 651.4506\n",
            "Epoch 8/8\n",
            "5000/5000 [==============================] - 44s 9ms/step - loss: 611.0631 - val_loss: 757.1682\n"
          ],
          "name": "stdout"
        }
      ]
    },
    {
      "cell_type": "code",
      "metadata": {
        "id": "EKWVuicIH-Ad",
        "colab_type": "code",
        "colab": {}
      },
      "source": [
        "STEP = 1\n",
        "def create_time_steps(length):\n",
        "      return list(range(-length, 0))\n",
        "def multi_step_plot(history, true_future, prediction):\n",
        "  plt.figure(figsize=(12, 6))\n",
        "  num_in = create_time_steps(len(history))\n",
        "  num_out = 1\n",
        "\n",
        "  plt.plot(num_in, np.array(history[:, 1]), label='History')\n",
        "  plt.plot(np.arange(num_out)/STEP, np.array(true_future), 'bo',\n",
        "           label='True Future')\n",
        "  if prediction.any():\n",
        "    plt.plot(np.arange(num_out)/STEP, np.array(prediction), 'ro',\n",
        "             label='Predicted Future')\n",
        "  plt.legend(loc='upper left')\n",
        "  plt.show()\n"
      ],
      "execution_count": 0,
      "outputs": []
    },
    {
      "cell_type": "code",
      "metadata": {
        "id": "l4Z0uC8YH-Ag",
        "colab_type": "code",
        "colab": {
          "base_uri": "https://localhost:8080/",
          "height": 1000
        },
        "outputId": "9f547aa6-a652-4eab-9fcb-e54355165351"
      },
      "source": [
        "# dir(multi_step_model)\n",
        "# dir(multi_step_model.weights[0][0])\n",
        "# # multi_step_model.weights[1].numpy().min()\n",
        "# len(multi_step_model.weights)\n",
        "# for i in range(8):\n",
        "#     print(multi_step_model.weights[i].numpy().min())\n",
        "# multi_step_model.weights\n",
        "dir(test_data_tf)"
      ],
      "execution_count": 26,
      "outputs": [
        {
          "output_type": "execute_result",
          "data": {
            "text/plain": [
              "['_GeneratorState',\n",
              " '__abstractmethods__',\n",
              " '__class__',\n",
              " '__delattr__',\n",
              " '__dict__',\n",
              " '__dir__',\n",
              " '__doc__',\n",
              " '__eq__',\n",
              " '__format__',\n",
              " '__ge__',\n",
              " '__getattribute__',\n",
              " '__gt__',\n",
              " '__hash__',\n",
              " '__init__',\n",
              " '__init_subclass__',\n",
              " '__iter__',\n",
              " '__le__',\n",
              " '__lt__',\n",
              " '__module__',\n",
              " '__ne__',\n",
              " '__new__',\n",
              " '__reduce__',\n",
              " '__reduce_ex__',\n",
              " '__repr__',\n",
              " '__setattr__',\n",
              " '__sizeof__',\n",
              " '__str__',\n",
              " '__subclasshook__',\n",
              " '__weakref__',\n",
              " '_abc_cache',\n",
              " '_abc_negative_cache',\n",
              " '_abc_negative_cache_version',\n",
              " '_abc_registry',\n",
              " '_add_variable_with_custom_getter',\n",
              " '_apply_options',\n",
              " '_as_serialized_graph',\n",
              " '_checkpoint_dependencies',\n",
              " '_consumers',\n",
              " '_count',\n",
              " '_deferred_dependencies',\n",
              " '_flat_shapes',\n",
              " '_flat_structure',\n",
              " '_flat_types',\n",
              " '_functions',\n",
              " '_gather_saveables_for_checkpoint',\n",
              " '_graph',\n",
              " '_graph_attr',\n",
              " '_handle_deferred_dependencies',\n",
              " '_has_captured_ref',\n",
              " '_input_dataset',\n",
              " '_inputs',\n",
              " '_list_extra_dependencies_for_serialization',\n",
              " '_list_functions_for_serialization',\n",
              " '_lookup_dependency',\n",
              " '_maybe_initialize_trackable',\n",
              " '_name_based_attribute_restore',\n",
              " '_name_based_restores',\n",
              " '_no_dependency',\n",
              " '_object_identifier',\n",
              " '_preload_simple_restoration',\n",
              " '_restore_from_checkpoint_position',\n",
              " '_self_name_based_restores',\n",
              " '_self_setattr_tracking',\n",
              " '_self_unconditional_checkpoint_dependencies',\n",
              " '_self_unconditional_deferred_dependencies',\n",
              " '_self_unconditional_dependency_names',\n",
              " '_self_update_uid',\n",
              " '_setattr_tracking',\n",
              " '_shape_invariant_to_type_spec',\n",
              " '_single_restoration_from_checkpoint_position',\n",
              " '_tf_api_names',\n",
              " '_tf_api_names_v1',\n",
              " '_trace_variant_creation',\n",
              " '_track_trackable',\n",
              " '_tracking_metadata',\n",
              " '_type_spec',\n",
              " '_unconditional_checkpoint_dependencies',\n",
              " '_unconditional_dependency_names',\n",
              " '_update_uid',\n",
              " '_variant_tensor',\n",
              " '_variant_tensor_attr',\n",
              " '_variant_tracker',\n",
              " 'apply',\n",
              " 'as_numpy_iterator',\n",
              " 'batch',\n",
              " 'cache',\n",
              " 'concatenate',\n",
              " 'element_spec',\n",
              " 'enumerate',\n",
              " 'filter',\n",
              " 'flat_map',\n",
              " 'from_generator',\n",
              " 'from_tensor_slices',\n",
              " 'from_tensors',\n",
              " 'interleave',\n",
              " 'list_files',\n",
              " 'map',\n",
              " 'options',\n",
              " 'padded_batch',\n",
              " 'prefetch',\n",
              " 'range',\n",
              " 'reduce',\n",
              " 'repeat',\n",
              " 'shard',\n",
              " 'shuffle',\n",
              " 'skip',\n",
              " 'take',\n",
              " 'unbatch',\n",
              " 'window',\n",
              " 'with_options',\n",
              " 'zip']"
            ]
          },
          "metadata": {
            "tags": []
          },
          "execution_count": 26
        }
      ]
    },
    {
      "cell_type": "code",
      "metadata": {
        "id": "ZGtS2naQH-Ak",
        "colab_type": "code",
        "colab": {
          "base_uri": "https://localhost:8080/",
          "height": 374
        },
        "outputId": "33838bec-8577-440a-ea50-ba6e6ce08bee"
      },
      "source": [
        "for x, y in train_data_tf.take(1):\n",
        "      multi_step_plot(x[0], y[0], multi_step_model.predict(x)[0]);"
      ],
      "execution_count": 27,
      "outputs": [
        {
          "output_type": "display_data",
          "data": {
            "image/png": "[encoded data removed]",
            "text/plain": [
              "<Figure size 864x432 with 1 Axes>"
            ]
          },
          "metadata": {
            "tags": [],
            "needs_background": "light"
          }
        }
      ]
    },
    {
      "cell_type": "code",
      "metadata": {
        "id": "eYU9VxW0H-Ao",
        "colab_type": "code",
        "colab": {
          "base_uri": "https://localhost:8080/",
          "height": 1000
        },
        "outputId": "7045eeb1-e06a-44d4-f1fa-4dbcb898783f"
      },
      "source": [
        "for x, y in test_data_tf.take(1):\n",
        "  print(multi_step_model.predict(x))"
      ],
      "execution_count": 28,
      "outputs": [
        {
          "output_type": "stream",
          "text": [
            "[[6194.984]\n",
            " [6194.984]\n",
            " [6194.984]\n",
            " [6194.984]\n",
            " [6194.984]\n",
            " [6194.984]\n",
            " [6194.984]\n",
            " [6194.984]\n",
            " [6194.984]\n",
            " [6194.984]\n",
            " [6194.984]\n",
            " [6194.984]\n",
            " [6194.984]\n",
            " [6194.984]\n",
            " [6194.984]\n",
            " [6194.984]\n",
            " [6194.984]\n",
            " [6194.984]\n",
            " [6194.984]\n",
            " [6194.984]\n",
            " [6194.984]\n",
            " [6194.984]\n",
            " [6194.984]\n",
            " [6194.984]\n",
            " [6194.984]\n",
            " [6194.984]\n",
            " [6194.984]\n",
            " [6194.984]\n",
            " [6194.984]\n",
            " [6194.984]\n",
            " [6194.984]\n",
            " [6194.984]\n",
            " [6194.984]\n",
            " [6194.984]\n",
            " [6194.984]\n",
            " [6194.984]\n",
            " [6194.984]\n",
            " [6194.984]\n",
            " [6194.984]\n",
            " [6194.984]\n",
            " [6194.984]\n",
            " [6194.984]\n",
            " [6194.984]\n",
            " [6194.984]\n",
            " [6194.984]\n",
            " [6194.984]\n",
            " [6194.984]\n",
            " [6194.984]\n",
            " [6194.984]\n",
            " [6194.984]\n",
            " [6194.984]\n",
            " [6194.984]\n",
            " [6194.984]\n",
            " [6194.984]\n",
            " [6194.984]\n",
            " [6194.984]\n",
            " [6194.984]\n",
            " [6194.984]\n",
            " [6194.984]\n",
            " [6194.984]\n",
            " [6194.984]\n",
            " [6194.984]\n",
            " [6194.984]\n",
            " [6194.984]\n",
            " [6194.984]\n",
            " [6194.984]\n",
            " [6194.984]\n",
            " [6194.984]\n",
            " [6194.984]\n",
            " [6194.984]\n",
            " [6194.984]\n",
            " [6194.984]\n",
            " [6194.984]\n",
            " [6194.984]\n",
            " [6194.984]\n",
            " [6194.984]\n",
            " [6194.984]\n",
            " [6194.984]\n",
            " [6194.984]\n",
            " [6194.984]\n",
            " [6194.984]\n",
            " [6194.984]\n",
            " [6194.984]\n",
            " [6194.984]\n",
            " [6194.984]\n",
            " [6194.984]\n",
            " [6194.984]\n",
            " [6194.984]\n",
            " [6194.984]\n",
            " [6194.984]\n",
            " [6194.984]\n",
            " [6194.984]\n",
            " [6194.984]\n",
            " [6194.984]\n",
            " [6194.984]\n",
            " [6194.984]\n",
            " [6194.984]\n",
            " [6194.984]\n",
            " [6194.984]\n",
            " [6194.984]\n",
            " [6194.984]\n",
            " [6194.984]\n",
            " [6194.984]\n",
            " [6194.984]\n",
            " [6194.984]\n",
            " [6194.984]\n",
            " [6194.984]\n",
            " [6194.984]\n",
            " [6194.984]\n",
            " [6194.984]\n",
            " [6194.984]\n",
            " [6194.984]\n",
            " [6194.984]\n",
            " [6194.984]\n",
            " [6194.984]\n",
            " [6194.984]\n",
            " [6194.984]\n",
            " [6194.984]\n",
            " [6194.984]\n",
            " [6194.984]]\n"
          ],
          "name": "stdout"
        }
      ]
    },
    {
      "cell_type": "code",
      "metadata": {
        "id": "7S-HbLP1H-As",
        "colab_type": "code",
        "colab": {
          "base_uri": "https://localhost:8080/",
          "height": 34
        },
        "outputId": "21cd7480-540e-423e-b2d3-4fe8edfde439"
      },
      "source": [
        "multi_step_model.save('my_model') "
      ],
      "execution_count": 30,
      "outputs": [
        {
          "output_type": "stream",
          "text": [
            "INFO:tensorflow:Assets written to: my_model/assets\n"
          ],
          "name": "stdout"
        }
      ]
    },
    {
      "cell_type": "code",
      "metadata": {
        "id": "QwFfYMOheFqT",
        "colab_type": "code",
        "colab": {
          "base_uri": "https://localhost:8080/",
          "height": 52
        },
        "outputId": "bc00edbf-196c-4c39-9720-2fc0877ff3b1"
      },
      "source": [
        "import os\n",
        "print( os.getcwd() )\n",
        "print( os.listdir('my_model') )"
      ],
      "execution_count": 36,
      "outputs": [
        {
          "output_type": "stream",
          "text": [
            "/content\n",
            "['saved_model.pb', 'assets', 'variables']\n"
          ],
          "name": "stdout"
        }
      ]
    },
    {
      "cell_type": "code",
      "metadata": {
        "id": "QgWzQVa3e7Ui",
        "colab_type": "code",
        "colab": {
          "base_uri": "https://localhost:8080/",
          "height": 139
        },
        "outputId": "39cc5318-1da8-4373-ce8e-cc8d386f5356"
      },
      "source": [
        "!zip -r model.zip my_model"
      ],
      "execution_count": 42,
      "outputs": [
        {
          "output_type": "stream",
          "text": [
            "  adding: my_model/ (stored 0%)\n",
            "  adding: my_model/saved_model.pb (deflated 90%)\n",
            "  adding: my_model/assets/ (stored 0%)\n",
            "  adding: my_model/variables/ (stored 0%)\n",
            "  adding: my_model/variables/variables.index (deflated 66%)\n",
            "  adding: my_model/variables/variables.data-00000-of-00002 (deflated 78%)\n",
            "  adding: my_model/variables/variables.data-00001-of-00002 (deflated 54%)\n"
          ],
          "name": "stdout"
        }
      ]
    }
  ]
}