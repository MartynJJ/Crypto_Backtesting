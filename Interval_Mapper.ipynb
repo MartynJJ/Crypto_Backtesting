{
 "cells": [
  {
   "cell_type": "code",
   "execution_count": 1,
   "metadata": {},
   "outputs": [],
   "source": [
    "import pandas as pd\n",
    "import datetime"
   ]
  },
  {
   "cell_type": "code",
   "execution_count": 2,
   "metadata": {},
   "outputs": [],
   "source": [
    "KEY_FILE = 'keys.txt'\n",
    "FILENAME = \"Bitmex_Hist.csv\""
   ]
  },
  {
   "cell_type": "code",
   "execution_count": 3,
   "metadata": {},
   "outputs": [],
   "source": [
    "# import Crypto_Backtesting"
   ]
  },
  {
   "cell_type": "code",
   "execution_count": 4,
   "metadata": {},
   "outputs": [],
   "source": [
    "# DataPull = Crypto_Backtesting.DataPuller(FILENAME, KEY_FILE)"
   ]
  },
  {
   "cell_type": "code",
   "execution_count": 5,
   "metadata": {},
   "outputs": [],
   "source": [
    "# dir(Crypto_Backtesting)"
   ]
  },
  {
   "cell_type": "code",
   "execution_count": null,
   "metadata": {},
   "outputs": [],
   "source": []
  },
  {
   "cell_type": "code",
   "execution_count": 6,
   "metadata": {},
   "outputs": [],
   "source": [
    "test = pd.read_csv(FILENAME, index_col = 1, date_parser = pd.to_datetime)"
   ]
  },
  {
   "cell_type": "code",
   "execution_count": 7,
   "metadata": {},
   "outputs": [
    {
     "name": "stdout",
     "output_type": "stream",
     "text": [
      "<class 'pandas.core.frame.DataFrame'>\n",
      "DatetimeIndex: 10000000 entries, 2017-10-20 10:16:00.296000+00:00 to 2017-11-25 13:37:53.292000+00:00\n",
      "Data columns (total 10 columns):\n",
      " #   Column           Dtype  \n",
      "---  ------           -----  \n",
      " 0   Unnamed: 0       int64  \n",
      " 1   symbol           object \n",
      " 2   side             object \n",
      " 3   size             int64  \n",
      " 4   price            float64\n",
      " 5   tickDirection    object \n",
      " 6   trdMatchID       object \n",
      " 7   grossValue       int64  \n",
      " 8   homeNotional     float64\n",
      " 9   foreignNotional  float64\n",
      "dtypes: float64(3), int64(3), object(4)\n",
      "memory usage: 839.2+ MB\n"
     ]
    }
   ],
   "source": [
    "test.info()"
   ]
  },
  {
   "cell_type": "code",
   "execution_count": 8,
   "metadata": {},
   "outputs": [
    {
     "data": {
      "text/plain": [
       "datetime64[ns, UTC]"
      ]
     },
     "execution_count": 8,
     "metadata": {},
     "output_type": "execute_result"
    }
   ],
   "source": [
    "test.index.dtype\n"
   ]
  },
  {
   "cell_type": "code",
   "execution_count": 9,
   "metadata": {},
   "outputs": [],
   "source": [
    "Avg_df = (test.price * test['size']).resample(\"1T\").sum() / test['size'].resample(\"1T\").sum()"
   ]
  },
  {
   "cell_type": "code",
   "execution_count": 10,
   "metadata": {},
   "outputs": [],
   "source": [
    "ohlc_df = test.price.resample('1T').ohlc()\n",
    "del (test)"
   ]
  },
  {
   "cell_type": "code",
   "execution_count": 11,
   "metadata": {},
   "outputs": [],
   "source": [
    "ohlc_df['average'] = Avg_df"
   ]
  },
  {
   "cell_type": "code",
   "execution_count": 12,
   "metadata": {},
   "outputs": [
    {
     "data": {
      "text/html": [
       "<div>\n",
       "<style scoped>\n",
       "    .dataframe tbody tr th:only-of-type {\n",
       "        vertical-align: middle;\n",
       "    }\n",
       "\n",
       "    .dataframe tbody tr th {\n",
       "        vertical-align: top;\n",
       "    }\n",
       "\n",
       "    .dataframe thead th {\n",
       "        text-align: right;\n",
       "    }\n",
       "</style>\n",
       "<table border=\"1\" class=\"dataframe\">\n",
       "  <thead>\n",
       "    <tr style=\"text-align: right;\">\n",
       "      <th></th>\n",
       "      <th>open</th>\n",
       "      <th>high</th>\n",
       "      <th>low</th>\n",
       "      <th>close</th>\n",
       "      <th>average</th>\n",
       "    </tr>\n",
       "    <tr>\n",
       "      <th>timestamp</th>\n",
       "      <th></th>\n",
       "      <th></th>\n",
       "      <th></th>\n",
       "      <th></th>\n",
       "      <th></th>\n",
       "    </tr>\n",
       "  </thead>\n",
       "  <tbody>\n",
       "    <tr>\n",
       "      <th>2017-10-20 10:16:00+00:00</th>\n",
       "      <td>5646.9</td>\n",
       "      <td>5646.9</td>\n",
       "      <td>5643.3</td>\n",
       "      <td>5643.3</td>\n",
       "      <td>5646.212603</td>\n",
       "    </tr>\n",
       "    <tr>\n",
       "      <th>2017-10-20 10:17:00+00:00</th>\n",
       "      <td>5642.9</td>\n",
       "      <td>5642.9</td>\n",
       "      <td>5635.0</td>\n",
       "      <td>5635.0</td>\n",
       "      <td>5637.983986</td>\n",
       "    </tr>\n",
       "    <tr>\n",
       "      <th>2017-10-20 10:18:00+00:00</th>\n",
       "      <td>5635.1</td>\n",
       "      <td>5642.1</td>\n",
       "      <td>5635.0</td>\n",
       "      <td>5642.0</td>\n",
       "      <td>5636.059667</td>\n",
       "    </tr>\n",
       "    <tr>\n",
       "      <th>2017-10-20 10:19:00+00:00</th>\n",
       "      <td>5642.0</td>\n",
       "      <td>5643.2</td>\n",
       "      <td>5642.0</td>\n",
       "      <td>5643.2</td>\n",
       "      <td>5642.387678</td>\n",
       "    </tr>\n",
       "    <tr>\n",
       "      <th>2017-10-20 10:20:00+00:00</th>\n",
       "      <td>5643.3</td>\n",
       "      <td>5651.0</td>\n",
       "      <td>5643.3</td>\n",
       "      <td>5650.9</td>\n",
       "      <td>5648.721905</td>\n",
       "    </tr>\n",
       "    <tr>\n",
       "      <th>...</th>\n",
       "      <td>...</td>\n",
       "      <td>...</td>\n",
       "      <td>...</td>\n",
       "      <td>...</td>\n",
       "      <td>...</td>\n",
       "    </tr>\n",
       "    <tr>\n",
       "      <th>2017-11-25 13:33:00+00:00</th>\n",
       "      <td>8600.0</td>\n",
       "      <td>8600.5</td>\n",
       "      <td>8596.5</td>\n",
       "      <td>8596.5</td>\n",
       "      <td>8599.502179</td>\n",
       "    </tr>\n",
       "    <tr>\n",
       "      <th>2017-11-25 13:34:00+00:00</th>\n",
       "      <td>8596.5</td>\n",
       "      <td>8597.0</td>\n",
       "      <td>8593.0</td>\n",
       "      <td>8593.0</td>\n",
       "      <td>8595.521335</td>\n",
       "    </tr>\n",
       "    <tr>\n",
       "      <th>2017-11-25 13:35:00+00:00</th>\n",
       "      <td>8593.0</td>\n",
       "      <td>8593.0</td>\n",
       "      <td>8590.5</td>\n",
       "      <td>8591.5</td>\n",
       "      <td>8591.786085</td>\n",
       "    </tr>\n",
       "    <tr>\n",
       "      <th>2017-11-25 13:36:00+00:00</th>\n",
       "      <td>8591.0</td>\n",
       "      <td>8614.5</td>\n",
       "      <td>8591.0</td>\n",
       "      <td>8611.0</td>\n",
       "      <td>8601.924092</td>\n",
       "    </tr>\n",
       "    <tr>\n",
       "      <th>2017-11-25 13:37:00+00:00</th>\n",
       "      <td>8611.5</td>\n",
       "      <td>8629.5</td>\n",
       "      <td>8611.0</td>\n",
       "      <td>8629.5</td>\n",
       "      <td>8619.093927</td>\n",
       "    </tr>\n",
       "  </tbody>\n",
       "</table>\n",
       "<p>52042 rows × 5 columns</p>\n",
       "</div>"
      ],
      "text/plain": [
       "                             open    high     low   close      average\n",
       "timestamp                                                             \n",
       "2017-10-20 10:16:00+00:00  5646.9  5646.9  5643.3  5643.3  5646.212603\n",
       "2017-10-20 10:17:00+00:00  5642.9  5642.9  5635.0  5635.0  5637.983986\n",
       "2017-10-20 10:18:00+00:00  5635.1  5642.1  5635.0  5642.0  5636.059667\n",
       "2017-10-20 10:19:00+00:00  5642.0  5643.2  5642.0  5643.2  5642.387678\n",
       "2017-10-20 10:20:00+00:00  5643.3  5651.0  5643.3  5650.9  5648.721905\n",
       "...                           ...     ...     ...     ...          ...\n",
       "2017-11-25 13:33:00+00:00  8600.0  8600.5  8596.5  8596.5  8599.502179\n",
       "2017-11-25 13:34:00+00:00  8596.5  8597.0  8593.0  8593.0  8595.521335\n",
       "2017-11-25 13:35:00+00:00  8593.0  8593.0  8590.5  8591.5  8591.786085\n",
       "2017-11-25 13:36:00+00:00  8591.0  8614.5  8591.0  8611.0  8601.924092\n",
       "2017-11-25 13:37:00+00:00  8611.5  8629.5  8611.0  8629.5  8619.093927\n",
       "\n",
       "[52042 rows x 5 columns]"
      ]
     },
     "execution_count": 12,
     "metadata": {},
     "output_type": "execute_result"
    }
   ],
   "source": [
    "ohlc_df"
   ]
  }
 ],
 "metadata": {
  "kernelspec": {
   "display_name": "Python 3",
   "language": "python",
   "name": "python3"
  },
  "language_info": {
   "codemirror_mode": {
    "name": "ipython",
    "version": 3
   },
   "file_extension": ".py",
   "mimetype": "text/x-python",
   "name": "python",
   "nbconvert_exporter": "python",
   "pygments_lexer": "ipython3",
   "version": "3.7.4"
  }
 },
 "nbformat": 4,
 "nbformat_minor": 2
}
